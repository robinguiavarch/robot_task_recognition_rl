{
  "cells": [
    {
      "cell_type": "markdown",
      "metadata": {
        "id": "19C2XmYl_V5p"
      },
      "source": [
        "# Agent 1 — Event-to-Action Recognition (OpenTheChests)\n",
        "\n",
        "##### **Authors**: François-Xavier Morel - Mathieu Delarue - Laury Magne - Robin Guiavarch\n"
      ]
    },
    {
      "cell_type": "markdown",
      "metadata": {
        "id": "v7Ii87Wy_V5q"
      },
      "source": [
        "#### **Summary**\n",
        "\n",
        "Welcome to the notebook dedicated to **Agent 1: Event-to-Action Recognition** using the *OpenTheChests* environment.  \n",
        "This notebook explores three progressively complex approaches to mapping event sequences to actions using reinforcement learning.\n",
        "\n",
        "\n",
        "#### 📚 **Table of Contents**\n",
        "\n",
        "🔹 **1. Simple Approach: One-to-One Event Mapping**\n",
        "- [1.1. Event Visualization](#11-event-visualization)\n",
        "- [1.2. Model Training](#12-model-training)\n",
        "  - [1.2.1. PPO](#121-ppo)\n",
        "  - [1.2.2. DQN](#122-dqn)\n",
        "- [1.3. Learning Curves](#13-learning-curves)\n",
        "  - [1.3.1. PPO](#131-ppo)\n",
        "  - [1.3.2. DQN](#132-dqn)\n",
        "- [1.4. Model Evaluation](#14-model-evaluation)\n",
        "  - [1.4.1. PPO](#141-ppo)\n",
        "  - [1.4.2. DQN](#142-dqn)\n",
        "\n",
        "🔹 **2. Intermediate Approach: Temporal Window**\n",
        "- [2.1. Event Visualization](#21-event-visualization)\n",
        "- [2.2. Model Training](#22-model-training)\n",
        "- [2.3. Learning Curves](#23-learning-curves)\n",
        "- [2.4. Model Evaluation](#24-model-evaluation)\n",
        "\n",
        "\n",
        "🔹 **3. Advanced Approach: Sequence Modeling**\n",
        "- [3.1. Event Visualization](#31-event-visualization)\n",
        "- [3.2. Model Training](#32-model-training)\n",
        "- [3.3. Learning Curves](#33-learning-curves)\n",
        "- [3.4. Model Evaluation](#34-model-evaluation)\n",
        "\n",
        "#### 🧾 Project Overview\n",
        "\n",
        "This notebook is part of the project **\"Reinforcement Learning for Robotic Task Recognition in Event-Driven Environments\"**.  \n",
        "It focuses on **Agent 1**, whose goal is to learn how to recognize meaningful patterns in a stream of symbolic events and decide which chest to open in the environment called **OpenTheChests**.\n",
        "\n",
        "#### 🎯 Objective\n",
        "\n",
        "Agent 1 must learn to:\n",
        "- Observe a continuous stream of symbolic events (e.g., A, B, C...)\n",
        "- Recognize valid event patterns (with or without noise)\n",
        "- Map those patterns to the correct action (i.e., open the right chest)\n",
        "\n",
        "The agent is trained using **Reinforcement Learning (RL)**, with several architectures and levels of complexity explored in this notebook:\n",
        "1. **Simple Mapping** (Single event → Action)\n",
        "2. **Temporal Window** (Short sequences of events)\n",
        "3. **Advanced Sequence Modeling** (LSTM, Transformer)\n",
        "\n",
        "#### 🧪 Environments & Tools\n",
        "\n",
        "The experiments rely on:\n",
        "- Custom Gym environments (`OpenTheChests-v0`, `v1`, `v2`)\n",
        "- Event visualization with Matplotlib\n",
        "- Training configuration through `.yaml` files\n",
        "- Evaluation metrics: **average reward**, **success rate**, **learning curves**\n",
        "\n",
        "\n",
        "📌 Follow the notebook sections in order to visualize events, train, and evaluate the models step by step.\n"
      ]
    },
    {
      "cell_type": "code",
      "execution_count": 1,
      "metadata": {
        "id": "BTCc-OLT_V5r"
      },
      "outputs": [],
      "source": [
        "# Unzip and setup PYTHONPATH\n",
        "!unzip -q robot_task_recognition_rl.zip\n",
        "import sys\n",
        "sys.path.append(\"/content/robot_task_recognition_rl\")"
      ]
    },
    {
      "cell_type": "code",
      "execution_count": 2,
      "metadata": {
        "colab": {
          "base_uri": "https://localhost:8080/"
        },
        "id": "45f0p3cF_V5s",
        "outputId": "419fad3c-b9d1-4a1e-80b6-c3c7f06b95da"
      },
      "outputs": [
        {
          "output_type": "stream",
          "name": "stdout",
          "text": [
            "Collecting gymnasium==0.29.1\n",
            "  Downloading gymnasium-0.29.1-py3-none-any.whl.metadata (10 kB)\n",
            "Collecting stable-baselines3==2.2.1\n",
            "  Downloading stable_baselines3-2.2.1-py3-none-any.whl.metadata (5.0 kB)\n",
            "Requirement already satisfied: matplotlib in /usr/local/lib/python3.11/dist-packages (3.10.0)\n",
            "Requirement already satisfied: pandas in /usr/local/lib/python3.11/dist-packages (2.2.2)\n",
            "Requirement already satisfied: PyYAML in /usr/local/lib/python3.11/dist-packages (6.0.2)\n",
            "Requirement already satisfied: tensorboard in /usr/local/lib/python3.11/dist-packages (2.18.0)\n",
            "Requirement already satisfied: numpy>=1.21.0 in /usr/local/lib/python3.11/dist-packages (from gymnasium==0.29.1) (2.0.2)\n",
            "Requirement already satisfied: cloudpickle>=1.2.0 in /usr/local/lib/python3.11/dist-packages (from gymnasium==0.29.1) (3.1.1)\n",
            "Requirement already satisfied: typing-extensions>=4.3.0 in /usr/local/lib/python3.11/dist-packages (from gymnasium==0.29.1) (4.12.2)\n",
            "Requirement already satisfied: farama-notifications>=0.0.1 in /usr/local/lib/python3.11/dist-packages (from gymnasium==0.29.1) (0.0.4)\n",
            "Requirement already satisfied: torch>=1.13 in /usr/local/lib/python3.11/dist-packages (from stable-baselines3==2.2.1) (2.6.0+cu124)\n",
            "Requirement already satisfied: contourpy>=1.0.1 in /usr/local/lib/python3.11/dist-packages (from matplotlib) (1.3.1)\n",
            "Requirement already satisfied: cycler>=0.10 in /usr/local/lib/python3.11/dist-packages (from matplotlib) (0.12.1)\n",
            "Requirement already satisfied: fonttools>=4.22.0 in /usr/local/lib/python3.11/dist-packages (from matplotlib) (4.56.0)\n",
            "Requirement already satisfied: kiwisolver>=1.3.1 in /usr/local/lib/python3.11/dist-packages (from matplotlib) (1.4.8)\n",
            "Requirement already satisfied: packaging>=20.0 in /usr/local/lib/python3.11/dist-packages (from matplotlib) (24.2)\n",
            "Requirement already satisfied: pillow>=8 in /usr/local/lib/python3.11/dist-packages (from matplotlib) (11.1.0)\n",
            "Requirement already satisfied: pyparsing>=2.3.1 in /usr/local/lib/python3.11/dist-packages (from matplotlib) (3.2.1)\n",
            "Requirement already satisfied: python-dateutil>=2.7 in /usr/local/lib/python3.11/dist-packages (from matplotlib) (2.8.2)\n",
            "Requirement already satisfied: pytz>=2020.1 in /usr/local/lib/python3.11/dist-packages (from pandas) (2025.1)\n",
            "Requirement already satisfied: tzdata>=2022.7 in /usr/local/lib/python3.11/dist-packages (from pandas) (2025.1)\n",
            "Requirement already satisfied: absl-py>=0.4 in /usr/local/lib/python3.11/dist-packages (from tensorboard) (1.4.0)\n",
            "Requirement already satisfied: grpcio>=1.48.2 in /usr/local/lib/python3.11/dist-packages (from tensorboard) (1.71.0)\n",
            "Requirement already satisfied: markdown>=2.6.8 in /usr/local/lib/python3.11/dist-packages (from tensorboard) (3.7)\n",
            "Requirement already satisfied: protobuf!=4.24.0,>=3.19.6 in /usr/local/lib/python3.11/dist-packages (from tensorboard) (5.29.3)\n",
            "Requirement already satisfied: setuptools>=41.0.0 in /usr/local/lib/python3.11/dist-packages (from tensorboard) (75.1.0)\n",
            "Requirement already satisfied: six>1.9 in /usr/local/lib/python3.11/dist-packages (from tensorboard) (1.17.0)\n",
            "Requirement already satisfied: tensorboard-data-server<0.8.0,>=0.7.0 in /usr/local/lib/python3.11/dist-packages (from tensorboard) (0.7.2)\n",
            "Requirement already satisfied: werkzeug>=1.0.1 in /usr/local/lib/python3.11/dist-packages (from tensorboard) (3.1.3)\n",
            "Requirement already satisfied: filelock in /usr/local/lib/python3.11/dist-packages (from torch>=1.13->stable-baselines3==2.2.1) (3.18.0)\n",
            "Requirement already satisfied: networkx in /usr/local/lib/python3.11/dist-packages (from torch>=1.13->stable-baselines3==2.2.1) (3.4.2)\n",
            "Requirement already satisfied: jinja2 in /usr/local/lib/python3.11/dist-packages (from torch>=1.13->stable-baselines3==2.2.1) (3.1.6)\n",
            "Requirement already satisfied: fsspec in /usr/local/lib/python3.11/dist-packages (from torch>=1.13->stable-baselines3==2.2.1) (2025.3.0)\n",
            "Collecting nvidia-cuda-nvrtc-cu12==12.4.127 (from torch>=1.13->stable-baselines3==2.2.1)\n",
            "  Downloading nvidia_cuda_nvrtc_cu12-12.4.127-py3-none-manylinux2014_x86_64.whl.metadata (1.5 kB)\n",
            "Collecting nvidia-cuda-runtime-cu12==12.4.127 (from torch>=1.13->stable-baselines3==2.2.1)\n",
            "  Downloading nvidia_cuda_runtime_cu12-12.4.127-py3-none-manylinux2014_x86_64.whl.metadata (1.5 kB)\n",
            "Collecting nvidia-cuda-cupti-cu12==12.4.127 (from torch>=1.13->stable-baselines3==2.2.1)\n",
            "  Downloading nvidia_cuda_cupti_cu12-12.4.127-py3-none-manylinux2014_x86_64.whl.metadata (1.6 kB)\n",
            "Collecting nvidia-cudnn-cu12==9.1.0.70 (from torch>=1.13->stable-baselines3==2.2.1)\n",
            "  Downloading nvidia_cudnn_cu12-9.1.0.70-py3-none-manylinux2014_x86_64.whl.metadata (1.6 kB)\n",
            "Collecting nvidia-cublas-cu12==12.4.5.8 (from torch>=1.13->stable-baselines3==2.2.1)\n",
            "  Downloading nvidia_cublas_cu12-12.4.5.8-py3-none-manylinux2014_x86_64.whl.metadata (1.5 kB)\n",
            "Collecting nvidia-cufft-cu12==11.2.1.3 (from torch>=1.13->stable-baselines3==2.2.1)\n",
            "  Downloading nvidia_cufft_cu12-11.2.1.3-py3-none-manylinux2014_x86_64.whl.metadata (1.5 kB)\n",
            "Collecting nvidia-curand-cu12==10.3.5.147 (from torch>=1.13->stable-baselines3==2.2.1)\n",
            "  Downloading nvidia_curand_cu12-10.3.5.147-py3-none-manylinux2014_x86_64.whl.metadata (1.5 kB)\n",
            "Collecting nvidia-cusolver-cu12==11.6.1.9 (from torch>=1.13->stable-baselines3==2.2.1)\n",
            "  Downloading nvidia_cusolver_cu12-11.6.1.9-py3-none-manylinux2014_x86_64.whl.metadata (1.6 kB)\n",
            "Collecting nvidia-cusparse-cu12==12.3.1.170 (from torch>=1.13->stable-baselines3==2.2.1)\n",
            "  Downloading nvidia_cusparse_cu12-12.3.1.170-py3-none-manylinux2014_x86_64.whl.metadata (1.6 kB)\n",
            "Requirement already satisfied: nvidia-cusparselt-cu12==0.6.2 in /usr/local/lib/python3.11/dist-packages (from torch>=1.13->stable-baselines3==2.2.1) (0.6.2)\n",
            "Requirement already satisfied: nvidia-nccl-cu12==2.21.5 in /usr/local/lib/python3.11/dist-packages (from torch>=1.13->stable-baselines3==2.2.1) (2.21.5)\n",
            "Requirement already satisfied: nvidia-nvtx-cu12==12.4.127 in /usr/local/lib/python3.11/dist-packages (from torch>=1.13->stable-baselines3==2.2.1) (12.4.127)\n",
            "Collecting nvidia-nvjitlink-cu12==12.4.127 (from torch>=1.13->stable-baselines3==2.2.1)\n",
            "  Downloading nvidia_nvjitlink_cu12-12.4.127-py3-none-manylinux2014_x86_64.whl.metadata (1.5 kB)\n",
            "Requirement already satisfied: triton==3.2.0 in /usr/local/lib/python3.11/dist-packages (from torch>=1.13->stable-baselines3==2.2.1) (3.2.0)\n",
            "Requirement already satisfied: sympy==1.13.1 in /usr/local/lib/python3.11/dist-packages (from torch>=1.13->stable-baselines3==2.2.1) (1.13.1)\n",
            "Requirement already satisfied: mpmath<1.4,>=1.1.0 in /usr/local/lib/python3.11/dist-packages (from sympy==1.13.1->torch>=1.13->stable-baselines3==2.2.1) (1.3.0)\n",
            "Requirement already satisfied: MarkupSafe>=2.1.1 in /usr/local/lib/python3.11/dist-packages (from werkzeug>=1.0.1->tensorboard) (3.0.2)\n",
            "Downloading gymnasium-0.29.1-py3-none-any.whl (953 kB)\n",
            "\u001b[2K   \u001b[90m━━━━━━━━━━━━━━━━━━━━━━━━━━━━━━━━━━━━━━━━\u001b[0m \u001b[32m953.9/953.9 kB\u001b[0m \u001b[31m38.5 MB/s\u001b[0m eta \u001b[36m0:00:00\u001b[0m\n",
            "\u001b[?25hDownloading stable_baselines3-2.2.1-py3-none-any.whl (181 kB)\n",
            "\u001b[2K   \u001b[90m━━━━━━━━━━━━━━━━━━━━━━━━━━━━━━━━━━━━━━━━\u001b[0m \u001b[32m181.7/181.7 kB\u001b[0m \u001b[31m21.1 MB/s\u001b[0m eta \u001b[36m0:00:00\u001b[0m\n",
            "\u001b[?25hDownloading nvidia_cublas_cu12-12.4.5.8-py3-none-manylinux2014_x86_64.whl (363.4 MB)\n",
            "\u001b[2K   \u001b[90m━━━━━━━━━━━━━━━━━━━━━━━━━━━━━━━━━━━━━━━━\u001b[0m \u001b[32m363.4/363.4 MB\u001b[0m \u001b[31m3.5 MB/s\u001b[0m eta \u001b[36m0:00:00\u001b[0m\n",
            "\u001b[?25hDownloading nvidia_cuda_cupti_cu12-12.4.127-py3-none-manylinux2014_x86_64.whl (13.8 MB)\n",
            "\u001b[2K   \u001b[90m━━━━━━━━━━━━━━━━━━━━━━━━━━━━━━━━━━━━━━━━\u001b[0m \u001b[32m13.8/13.8 MB\u001b[0m \u001b[31m55.7 MB/s\u001b[0m eta \u001b[36m0:00:00\u001b[0m\n",
            "\u001b[?25hDownloading nvidia_cuda_nvrtc_cu12-12.4.127-py3-none-manylinux2014_x86_64.whl (24.6 MB)\n",
            "\u001b[2K   \u001b[90m━━━━━━━━━━━━━━━━━━━━━━━━━━━━━━━━━━━━━━━━\u001b[0m \u001b[32m24.6/24.6 MB\u001b[0m \u001b[31m18.1 MB/s\u001b[0m eta \u001b[36m0:00:00\u001b[0m\n",
            "\u001b[?25hDownloading nvidia_cuda_runtime_cu12-12.4.127-py3-none-manylinux2014_x86_64.whl (883 kB)\n",
            "\u001b[2K   \u001b[90m━━━━━━━━━━━━━━━━━━━━━━━━━━━━━━━━━━━━━━━━\u001b[0m \u001b[32m883.7/883.7 kB\u001b[0m \u001b[31m37.7 MB/s\u001b[0m eta \u001b[36m0:00:00\u001b[0m\n",
            "\u001b[?25hDownloading nvidia_cudnn_cu12-9.1.0.70-py3-none-manylinux2014_x86_64.whl (664.8 MB)\n",
            "\u001b[2K   \u001b[90m━━━━━━━━━━━━━━━━━━━━━━━━━━━━━━━━━━━━━━━━\u001b[0m \u001b[32m664.8/664.8 MB\u001b[0m \u001b[31m2.6 MB/s\u001b[0m eta \u001b[36m0:00:00\u001b[0m\n",
            "\u001b[?25hDownloading nvidia_cufft_cu12-11.2.1.3-py3-none-manylinux2014_x86_64.whl (211.5 MB)\n",
            "\u001b[2K   \u001b[90m━━━━━━━━━━━━━━━━━━━━━━━━━━━━━━━━━━━━━━━━\u001b[0m \u001b[32m211.5/211.5 MB\u001b[0m \u001b[31m5.3 MB/s\u001b[0m eta \u001b[36m0:00:00\u001b[0m\n",
            "\u001b[?25hDownloading nvidia_curand_cu12-10.3.5.147-py3-none-manylinux2014_x86_64.whl (56.3 MB)\n",
            "\u001b[2K   \u001b[90m━━━━━━━━━━━━━━━━━━━━━━━━━━━━━━━━━━━━━━━━\u001b[0m \u001b[32m56.3/56.3 MB\u001b[0m \u001b[31m11.1 MB/s\u001b[0m eta \u001b[36m0:00:00\u001b[0m\n",
            "\u001b[?25hDownloading nvidia_cusolver_cu12-11.6.1.9-py3-none-manylinux2014_x86_64.whl (127.9 MB)\n",
            "\u001b[2K   \u001b[90m━━━━━━━━━━━━━━━━━━━━━━━━━━━━━━━━━━━━━━━━\u001b[0m \u001b[32m127.9/127.9 MB\u001b[0m \u001b[31m7.5 MB/s\u001b[0m eta \u001b[36m0:00:00\u001b[0m\n",
            "\u001b[?25hDownloading nvidia_cusparse_cu12-12.3.1.170-py3-none-manylinux2014_x86_64.whl (207.5 MB)\n",
            "\u001b[2K   \u001b[90m━━━━━━━━━━━━━━━━━━━━━━━━━━━━━━━━━━━━━━━━\u001b[0m \u001b[32m207.5/207.5 MB\u001b[0m \u001b[31m6.7 MB/s\u001b[0m eta \u001b[36m0:00:00\u001b[0m\n",
            "\u001b[?25hDownloading nvidia_nvjitlink_cu12-12.4.127-py3-none-manylinux2014_x86_64.whl (21.1 MB)\n",
            "\u001b[2K   \u001b[90m━━━━━━━━━━━━━━━━━━━━━━━━━━━━━━━━━━━━━━━━\u001b[0m \u001b[32m21.1/21.1 MB\u001b[0m \u001b[31m56.9 MB/s\u001b[0m eta \u001b[36m0:00:00\u001b[0m\n",
            "\u001b[?25hInstalling collected packages: nvidia-nvjitlink-cu12, nvidia-curand-cu12, nvidia-cufft-cu12, nvidia-cuda-runtime-cu12, nvidia-cuda-nvrtc-cu12, nvidia-cuda-cupti-cu12, nvidia-cublas-cu12, gymnasium, nvidia-cusparse-cu12, nvidia-cudnn-cu12, nvidia-cusolver-cu12, stable-baselines3\n",
            "  Attempting uninstall: nvidia-nvjitlink-cu12\n",
            "    Found existing installation: nvidia-nvjitlink-cu12 12.5.82\n",
            "    Uninstalling nvidia-nvjitlink-cu12-12.5.82:\n",
            "      Successfully uninstalled nvidia-nvjitlink-cu12-12.5.82\n",
            "  Attempting uninstall: nvidia-curand-cu12\n",
            "    Found existing installation: nvidia-curand-cu12 10.3.6.82\n",
            "    Uninstalling nvidia-curand-cu12-10.3.6.82:\n",
            "      Successfully uninstalled nvidia-curand-cu12-10.3.6.82\n",
            "  Attempting uninstall: nvidia-cufft-cu12\n",
            "    Found existing installation: nvidia-cufft-cu12 11.2.3.61\n",
            "    Uninstalling nvidia-cufft-cu12-11.2.3.61:\n",
            "      Successfully uninstalled nvidia-cufft-cu12-11.2.3.61\n",
            "  Attempting uninstall: nvidia-cuda-runtime-cu12\n",
            "    Found existing installation: nvidia-cuda-runtime-cu12 12.5.82\n",
            "    Uninstalling nvidia-cuda-runtime-cu12-12.5.82:\n",
            "      Successfully uninstalled nvidia-cuda-runtime-cu12-12.5.82\n",
            "  Attempting uninstall: nvidia-cuda-nvrtc-cu12\n",
            "    Found existing installation: nvidia-cuda-nvrtc-cu12 12.5.82\n",
            "    Uninstalling nvidia-cuda-nvrtc-cu12-12.5.82:\n",
            "      Successfully uninstalled nvidia-cuda-nvrtc-cu12-12.5.82\n",
            "  Attempting uninstall: nvidia-cuda-cupti-cu12\n",
            "    Found existing installation: nvidia-cuda-cupti-cu12 12.5.82\n",
            "    Uninstalling nvidia-cuda-cupti-cu12-12.5.82:\n",
            "      Successfully uninstalled nvidia-cuda-cupti-cu12-12.5.82\n",
            "  Attempting uninstall: nvidia-cublas-cu12\n",
            "    Found existing installation: nvidia-cublas-cu12 12.5.3.2\n",
            "    Uninstalling nvidia-cublas-cu12-12.5.3.2:\n",
            "      Successfully uninstalled nvidia-cublas-cu12-12.5.3.2\n",
            "  Attempting uninstall: gymnasium\n",
            "    Found existing installation: gymnasium 1.1.1\n",
            "    Uninstalling gymnasium-1.1.1:\n",
            "      Successfully uninstalled gymnasium-1.1.1\n",
            "  Attempting uninstall: nvidia-cusparse-cu12\n",
            "    Found existing installation: nvidia-cusparse-cu12 12.5.1.3\n",
            "    Uninstalling nvidia-cusparse-cu12-12.5.1.3:\n",
            "      Successfully uninstalled nvidia-cusparse-cu12-12.5.1.3\n",
            "  Attempting uninstall: nvidia-cudnn-cu12\n",
            "    Found existing installation: nvidia-cudnn-cu12 9.3.0.75\n",
            "    Uninstalling nvidia-cudnn-cu12-9.3.0.75:\n",
            "      Successfully uninstalled nvidia-cudnn-cu12-9.3.0.75\n",
            "  Attempting uninstall: nvidia-cusolver-cu12\n",
            "    Found existing installation: nvidia-cusolver-cu12 11.6.3.83\n",
            "    Uninstalling nvidia-cusolver-cu12-11.6.3.83:\n",
            "      Successfully uninstalled nvidia-cusolver-cu12-11.6.3.83\n",
            "\u001b[31mERROR: pip's dependency resolver does not currently take into account all the packages that are installed. This behaviour is the source of the following dependency conflicts.\n",
            "dopamine-rl 4.1.2 requires gymnasium>=1.0.0, but you have gymnasium 0.29.1 which is incompatible.\u001b[0m\u001b[31m\n",
            "\u001b[0mSuccessfully installed gymnasium-0.29.1 nvidia-cublas-cu12-12.4.5.8 nvidia-cuda-cupti-cu12-12.4.127 nvidia-cuda-nvrtc-cu12-12.4.127 nvidia-cuda-runtime-cu12-12.4.127 nvidia-cudnn-cu12-9.1.0.70 nvidia-cufft-cu12-11.2.1.3 nvidia-curand-cu12-10.3.5.147 nvidia-cusolver-cu12-11.6.1.9 nvidia-cusparse-cu12-12.3.1.170 nvidia-nvjitlink-cu12-12.4.127 stable-baselines3-2.2.1\n"
          ]
        }
      ],
      "source": [
        "!pip install gymnasium==0.29.1 stable-baselines3==2.2.1 matplotlib pandas PyYAML tensorboard\n"
      ]
    },
    {
      "cell_type": "code",
      "execution_count": 3,
      "metadata": {
        "colab": {
          "base_uri": "https://localhost:8080/"
        },
        "id": "au1vAay1_V5s",
        "outputId": "f1ca340f-46ca-4624-959d-97c86dc142f4"
      },
      "outputs": [
        {
          "output_type": "stream",
          "name": "stdout",
          "text": [
            "Collecting openthechests\n",
            "  Downloading openthechests-0.5.8-py3-none-any.whl.metadata (5.1 kB)\n",
            "Requirement already satisfied: gym>=0.21.0 in /usr/local/lib/python3.11/dist-packages (from openthechests) (0.25.2)\n",
            "Requirement already satisfied: numpy>=1.23.3 in /usr/local/lib/python3.11/dist-packages (from openthechests) (2.0.2)\n",
            "Requirement already satisfied: PyYAML>=6.0 in /usr/local/lib/python3.11/dist-packages (from openthechests) (6.0.2)\n",
            "Requirement already satisfied: plotly>=5.10.0 in /usr/local/lib/python3.11/dist-packages (from openthechests) (5.24.1)\n",
            "Requirement already satisfied: pandas>=1.5.0 in /usr/local/lib/python3.11/dist-packages (from openthechests) (2.2.2)\n",
            "Requirement already satisfied: matplotlib>=3.6.0 in /usr/local/lib/python3.11/dist-packages (from openthechests) (3.10.0)\n",
            "Requirement already satisfied: stable-baselines3>=1.6.0 in /usr/local/lib/python3.11/dist-packages (from openthechests) (2.2.1)\n",
            "Requirement already satisfied: cloudpickle>=1.2.0 in /usr/local/lib/python3.11/dist-packages (from gym>=0.21.0->openthechests) (3.1.1)\n",
            "Requirement already satisfied: gym_notices>=0.0.4 in /usr/local/lib/python3.11/dist-packages (from gym>=0.21.0->openthechests) (0.0.8)\n",
            "Requirement already satisfied: contourpy>=1.0.1 in /usr/local/lib/python3.11/dist-packages (from matplotlib>=3.6.0->openthechests) (1.3.1)\n",
            "Requirement already satisfied: cycler>=0.10 in /usr/local/lib/python3.11/dist-packages (from matplotlib>=3.6.0->openthechests) (0.12.1)\n",
            "Requirement already satisfied: fonttools>=4.22.0 in /usr/local/lib/python3.11/dist-packages (from matplotlib>=3.6.0->openthechests) (4.56.0)\n",
            "Requirement already satisfied: kiwisolver>=1.3.1 in /usr/local/lib/python3.11/dist-packages (from matplotlib>=3.6.0->openthechests) (1.4.8)\n",
            "Requirement already satisfied: packaging>=20.0 in /usr/local/lib/python3.11/dist-packages (from matplotlib>=3.6.0->openthechests) (24.2)\n",
            "Requirement already satisfied: pillow>=8 in /usr/local/lib/python3.11/dist-packages (from matplotlib>=3.6.0->openthechests) (11.1.0)\n",
            "Requirement already satisfied: pyparsing>=2.3.1 in /usr/local/lib/python3.11/dist-packages (from matplotlib>=3.6.0->openthechests) (3.2.1)\n",
            "Requirement already satisfied: python-dateutil>=2.7 in /usr/local/lib/python3.11/dist-packages (from matplotlib>=3.6.0->openthechests) (2.8.2)\n",
            "Requirement already satisfied: pytz>=2020.1 in /usr/local/lib/python3.11/dist-packages (from pandas>=1.5.0->openthechests) (2025.1)\n",
            "Requirement already satisfied: tzdata>=2022.7 in /usr/local/lib/python3.11/dist-packages (from pandas>=1.5.0->openthechests) (2025.1)\n",
            "Requirement already satisfied: tenacity>=6.2.0 in /usr/local/lib/python3.11/dist-packages (from plotly>=5.10.0->openthechests) (9.0.0)\n",
            "Requirement already satisfied: gymnasium<0.30,>=0.28.1 in /usr/local/lib/python3.11/dist-packages (from stable-baselines3>=1.6.0->openthechests) (0.29.1)\n",
            "Requirement already satisfied: torch>=1.13 in /usr/local/lib/python3.11/dist-packages (from stable-baselines3>=1.6.0->openthechests) (2.6.0+cu124)\n",
            "Requirement already satisfied: typing-extensions>=4.3.0 in /usr/local/lib/python3.11/dist-packages (from gymnasium<0.30,>=0.28.1->stable-baselines3>=1.6.0->openthechests) (4.12.2)\n",
            "Requirement already satisfied: farama-notifications>=0.0.1 in /usr/local/lib/python3.11/dist-packages (from gymnasium<0.30,>=0.28.1->stable-baselines3>=1.6.0->openthechests) (0.0.4)\n",
            "Requirement already satisfied: six>=1.5 in /usr/local/lib/python3.11/dist-packages (from python-dateutil>=2.7->matplotlib>=3.6.0->openthechests) (1.17.0)\n",
            "Requirement already satisfied: filelock in /usr/local/lib/python3.11/dist-packages (from torch>=1.13->stable-baselines3>=1.6.0->openthechests) (3.18.0)\n",
            "Requirement already satisfied: networkx in /usr/local/lib/python3.11/dist-packages (from torch>=1.13->stable-baselines3>=1.6.0->openthechests) (3.4.2)\n",
            "Requirement already satisfied: jinja2 in /usr/local/lib/python3.11/dist-packages (from torch>=1.13->stable-baselines3>=1.6.0->openthechests) (3.1.6)\n",
            "Requirement already satisfied: fsspec in /usr/local/lib/python3.11/dist-packages (from torch>=1.13->stable-baselines3>=1.6.0->openthechests) (2025.3.0)\n",
            "Requirement already satisfied: nvidia-cuda-nvrtc-cu12==12.4.127 in /usr/local/lib/python3.11/dist-packages (from torch>=1.13->stable-baselines3>=1.6.0->openthechests) (12.4.127)\n",
            "Requirement already satisfied: nvidia-cuda-runtime-cu12==12.4.127 in /usr/local/lib/python3.11/dist-packages (from torch>=1.13->stable-baselines3>=1.6.0->openthechests) (12.4.127)\n",
            "Requirement already satisfied: nvidia-cuda-cupti-cu12==12.4.127 in /usr/local/lib/python3.11/dist-packages (from torch>=1.13->stable-baselines3>=1.6.0->openthechests) (12.4.127)\n",
            "Requirement already satisfied: nvidia-cudnn-cu12==9.1.0.70 in /usr/local/lib/python3.11/dist-packages (from torch>=1.13->stable-baselines3>=1.6.0->openthechests) (9.1.0.70)\n",
            "Requirement already satisfied: nvidia-cublas-cu12==12.4.5.8 in /usr/local/lib/python3.11/dist-packages (from torch>=1.13->stable-baselines3>=1.6.0->openthechests) (12.4.5.8)\n",
            "Requirement already satisfied: nvidia-cufft-cu12==11.2.1.3 in /usr/local/lib/python3.11/dist-packages (from torch>=1.13->stable-baselines3>=1.6.0->openthechests) (11.2.1.3)\n",
            "Requirement already satisfied: nvidia-curand-cu12==10.3.5.147 in /usr/local/lib/python3.11/dist-packages (from torch>=1.13->stable-baselines3>=1.6.0->openthechests) (10.3.5.147)\n",
            "Requirement already satisfied: nvidia-cusolver-cu12==11.6.1.9 in /usr/local/lib/python3.11/dist-packages (from torch>=1.13->stable-baselines3>=1.6.0->openthechests) (11.6.1.9)\n",
            "Requirement already satisfied: nvidia-cusparse-cu12==12.3.1.170 in /usr/local/lib/python3.11/dist-packages (from torch>=1.13->stable-baselines3>=1.6.0->openthechests) (12.3.1.170)\n",
            "Requirement already satisfied: nvidia-cusparselt-cu12==0.6.2 in /usr/local/lib/python3.11/dist-packages (from torch>=1.13->stable-baselines3>=1.6.0->openthechests) (0.6.2)\n",
            "Requirement already satisfied: nvidia-nccl-cu12==2.21.5 in /usr/local/lib/python3.11/dist-packages (from torch>=1.13->stable-baselines3>=1.6.0->openthechests) (2.21.5)\n",
            "Requirement already satisfied: nvidia-nvtx-cu12==12.4.127 in /usr/local/lib/python3.11/dist-packages (from torch>=1.13->stable-baselines3>=1.6.0->openthechests) (12.4.127)\n",
            "Requirement already satisfied: nvidia-nvjitlink-cu12==12.4.127 in /usr/local/lib/python3.11/dist-packages (from torch>=1.13->stable-baselines3>=1.6.0->openthechests) (12.4.127)\n",
            "Requirement already satisfied: triton==3.2.0 in /usr/local/lib/python3.11/dist-packages (from torch>=1.13->stable-baselines3>=1.6.0->openthechests) (3.2.0)\n",
            "Requirement already satisfied: sympy==1.13.1 in /usr/local/lib/python3.11/dist-packages (from torch>=1.13->stable-baselines3>=1.6.0->openthechests) (1.13.1)\n",
            "Requirement already satisfied: mpmath<1.4,>=1.1.0 in /usr/local/lib/python3.11/dist-packages (from sympy==1.13.1->torch>=1.13->stable-baselines3>=1.6.0->openthechests) (1.3.0)\n",
            "Requirement already satisfied: MarkupSafe>=2.0 in /usr/local/lib/python3.11/dist-packages (from jinja2->torch>=1.13->stable-baselines3>=1.6.0->openthechests) (3.0.2)\n",
            "Downloading openthechests-0.5.8-py3-none-any.whl (25 kB)\n",
            "Installing collected packages: openthechests\n",
            "Successfully installed openthechests-0.5.8\n"
          ]
        }
      ],
      "source": [
        "!pip install openthechests"
      ]
    },
    {
      "cell_type": "code",
      "source": [
        "# 1. Uninstall the preinstalled (incompatible) gymnasium\n",
        "!pip uninstall -y gymnasium\n",
        "\n",
        "# 2. Reinstall compatible version (required by SB3)\n",
        "!pip install gymnasium==0.29.1 shimmy==0.2.1 --quiet"
      ],
      "metadata": {
        "colab": {
          "base_uri": "https://localhost:8080/"
        },
        "id": "2AvNoxk3PMsc",
        "outputId": "91c75328-3aa2-4f8a-b578-6893b641e8be"
      },
      "execution_count": 11,
      "outputs": [
        {
          "output_type": "stream",
          "name": "stdout",
          "text": [
            "Found existing installation: gymnasium 1.1.1\n",
            "Uninstalling gymnasium-1.1.1:\n",
            "  Successfully uninstalled gymnasium-1.1.1\n",
            "\u001b[31mERROR: pip's dependency resolver does not currently take into account all the packages that are installed. This behaviour is the source of the following dependency conflicts.\n",
            "dopamine-rl 4.1.2 requires gymnasium>=1.0.0, but you have gymnasium 0.29.1 which is incompatible.\u001b[0m\u001b[31m\n",
            "\u001b[0m"
          ]
        }
      ]
    },
    {
      "cell_type": "code",
      "source": [
        "import gymnasium as gym\n",
        "import shimmy\n",
        "\n",
        "print(\"✅ gymnasium version:\", gym.__version__)\n",
        "print(\"✅ shimmy version:\", shimmy.__version__)"
      ],
      "metadata": {
        "colab": {
          "base_uri": "https://localhost:8080/"
        },
        "id": "Zt2H2jrYQOFH",
        "outputId": "df548f6a-c262-45fa-f2c4-36ceb4e8c40e"
      },
      "execution_count": 12,
      "outputs": [
        {
          "output_type": "stream",
          "name": "stdout",
          "text": [
            "✅ gymnasium version: 0.29.1\n",
            "✅ shimmy version: 0.2.1\n"
          ]
        }
      ]
    },
    {
      "cell_type": "code",
      "source": [
        "# Patch for numpy.bool8 removal in NumPy >= 1.24\n",
        "import numpy as np\n",
        "if not hasattr(np, \"bool8\"):\n",
        "    np.bool8 = np.bool_"
      ],
      "metadata": {
        "id": "rT-5Z9UYN3Bv"
      },
      "execution_count": 4,
      "outputs": []
    },
    {
      "cell_type": "markdown",
      "metadata": {
        "id": "aCtO9xoa_V5s"
      },
      "source": [
        "## 1. Simple Approach: One-to-One Event Mapping\n",
        "\n"
      ]
    },
    {
      "cell_type": "markdown",
      "metadata": {
        "id": "yCdyY5ku_V5t"
      },
      "source": [
        "\n",
        "### 1.1. Event Visualization\n",
        "\n"
      ]
    },
    {
      "cell_type": "code",
      "execution_count": 5,
      "metadata": {
        "colab": {
          "base_uri": "https://localhost:8080/",
          "height": 756
        },
        "id": "HkRewydF_V5t",
        "outputId": "ed81c014-b7f3-4f92-b7a5-a817b0fa1458"
      },
      "outputs": [
        {
          "output_type": "stream",
          "name": "stderr",
          "text": [
            "/usr/local/lib/python3.11/dist-packages/gym/envs/registration.py:593: UserWarning: \u001b[33mWARN: The environment OpenTheChests-v0 is out of date. You should consider upgrading to version `v2`.\u001b[0m\n",
            "  logger.warn(\n",
            "/usr/local/lib/python3.11/dist-packages/gym/core.py:317: DeprecationWarning: \u001b[33mWARN: Initializing wrapper in old step API which returns one bool instead of two. It is recommended to set `new_step_api=True` to use new step API. This will be the default behaviour in future.\u001b[0m\n",
            "  deprecation(\n",
            "/usr/local/lib/python3.11/dist-packages/gym/wrappers/step_api_compatibility.py:39: DeprecationWarning: \u001b[33mWARN: Initializing environment in old step API which returns one bool instead of two. It is recommended to set `new_step_api=True` to use new step API. This will be the default behaviour in future.\u001b[0m\n",
            "  deprecation(\n",
            "/usr/local/lib/python3.11/dist-packages/gym/utils/passive_env_checker.py:174: UserWarning: \u001b[33mWARN: Future gym versions will require that `Env.reset` can be passed a `seed` instead of using `Env.seed` for resetting the environment random number generator.\u001b[0m\n",
            "  logger.warn(\n",
            "/usr/local/lib/python3.11/dist-packages/gym/utils/passive_env_checker.py:190: UserWarning: \u001b[33mWARN: Future gym versions will require that `Env.reset` can be passed `return_info` to return information from the environment resetting.\u001b[0m\n",
            "  logger.warn(\n",
            "/usr/local/lib/python3.11/dist-packages/gym/utils/passive_env_checker.py:195: UserWarning: \u001b[33mWARN: Future gym versions will require that `Env.reset` can be passed `options` to allow the environment initialisation to be passed additional information.\u001b[0m\n",
            "  logger.warn(\n",
            "/usr/local/lib/python3.11/dist-packages/gym/utils/passive_env_checker.py:141: UserWarning: \u001b[33mWARN: The obs returned by the `reset()` method was expecting numpy array dtype to be float32, actual type: float64\u001b[0m\n",
            "  logger.warn(\n",
            "/usr/local/lib/python3.11/dist-packages/gym/utils/passive_env_checker.py:165: UserWarning: \u001b[33mWARN: The obs returned by the `reset()` method is not within the observation space.\u001b[0m\n",
            "  logger.warn(f\"{pre} is not within the observation space.\")\n",
            "/usr/local/lib/python3.11/dist-packages/gym/utils/passive_env_checker.py:227: DeprecationWarning: \u001b[33mWARN: Core environment is written in old step API which returns one bool instead of two. It is recommended to rewrite the environment with new step API. \u001b[0m\n",
            "  logger.deprecation(\n",
            "/usr/local/lib/python3.11/dist-packages/gym/utils/passive_env_checker.py:141: UserWarning: \u001b[33mWARN: The obs returned by the `step()` method was expecting numpy array dtype to be float32, actual type: float64\u001b[0m\n",
            "  logger.warn(\n",
            "/usr/local/lib/python3.11/dist-packages/gym/utils/passive_env_checker.py:165: UserWarning: \u001b[33mWARN: The obs returned by the `step()` method is not within the observation space.\u001b[0m\n",
            "  logger.warn(f\"{pre} is not within the observation space.\")\n"
          ]
        },
        {
          "output_type": "display_data",
          "data": {
            "text/plain": [
              "<Figure size 1500x500 with 1 Axes>"
            ],
            "image/png": "[encoded data removed]"
          },
          "metadata": {}
        }
      ],
      "source": [
        "from agent1_patterns_chests_to_reach.utils.data_collectors import collect_observations\n",
        "from agent1_patterns_chests_to_reach.env.register_envs import register_custom_envs\n",
        "from agent1_patterns_chests_to_reach.utils.event_encoding import event_to_dict_from_gym\n",
        "from agent1_patterns_chests_to_reach.utils.visualization import plot_event_timeline\n",
        "\n",
        "import gym\n",
        "\n",
        "# Register environments\n",
        "register_custom_envs()\n",
        "\n",
        "# Collect and visualize events\n",
        "observed_events_easy = collect_observations(\"OpenTheChests-v0\", num_steps=10)\n",
        "plot_event_timeline(observed_events_easy, start_time=0, end_time=observed_events_easy[-1][\"end_time\"], env_name=\"OpenTheChests-v0\")"
      ]
    },
    {
      "cell_type": "markdown",
      "metadata": {
        "id": "7_aQYfv7_V5t"
      },
      "source": [
        "### 1.2. Model Training\n",
        "\n"
      ]
    },
    {
      "cell_type": "code",
      "source": [
        "from google.colab import drive\n",
        "drive.mount('/content/drive')"
      ],
      "metadata": {
        "id": "XN6TGGT4T4St"
      },
      "execution_count": null,
      "outputs": []
    },
    {
      "cell_type": "code",
      "source": [
        "import torch\n",
        "print(\"✅ CUDA is available:\", torch.cuda.is_available())\n",
        "print(\"Running on:\", torch.cuda.get_device_name(0))\n"
      ],
      "metadata": {
        "id": "mHFymtoQT83Q"
      },
      "execution_count": null,
      "outputs": []
    },
    {
      "cell_type": "markdown",
      "source": [
        "#### 1.2.1. PPO"
      ],
      "metadata": {
        "id": "irS1O3AzS5b2"
      }
    },
    {
      "cell_type": "markdown",
      "source": [
        "##### 🧠 What is PPO? (Proximal Policy Optimization)\n",
        "\n",
        "**Proximal Policy Optimization (PPO)** is a powerful and widely used reinforcement learning algorithm developed by OpenAI.  \n",
        "It belongs to the family of **actor-critic** and **on-policy** methods, and is used to train agents to learn optimal behavior through interaction with an environment.\n",
        "\n",
        "PPO uses a **neural network** (often a Multi-Layer Perceptron) to:\n",
        "- **Predict actions** (actor / policy)\n",
        "- **Estimate state values** (critic / value function)\n",
        "\n",
        "\n",
        "---\n",
        "\n",
        "🧭 Actor-Critic Architecture\n",
        "\n",
        "PPO uses two main components:\n",
        "\n",
        "- 🎯 **Actor**: the part of the model that selects an action based on the current state  \n",
        "  → Learns the *policy* π(a|s)\n",
        "\n",
        "- 📉 **Critic**: the part that estimates how good a state is (the value function)  \n",
        "  → Learns the *value* V(s)\n",
        "\n",
        "Training alternates between improving the **actor** using feedback from the **critic**.\n",
        "\n",
        "---\n",
        "\n",
        "🔄 On-Policy vs Off-Policy\n",
        "\n",
        "PPO is an **on-policy** algorithm:\n",
        "- It learns only from the most **recent interactions** with the environment\n",
        "- It **discards old experiences** (unlike DQN or SAC)\n",
        "\n",
        "This makes it more stable but also more sample-inefficient than off-policy methods.\n",
        "\n",
        "---\n",
        "\n",
        "⚙️ How does PPO work?\n",
        "\n",
        "PPO improves the policy by minimizing a clipped surrogate objective function:\n",
        "\n",
        "- It avoids taking too large policy updates (which could destabilize training)\n",
        "- The \"Proximal\" part ensures updates stay within a trust region\n",
        "\n",
        "💡 This makes PPO more stable and easier to tune than vanilla Policy Gradient or TRPO.\n",
        "\n",
        "---\n",
        "\n",
        "### ✅ Summary\n",
        "\n",
        "| Property            | Value                          |\n",
        "|---------------------|---------------------------------|\n",
        "| Type                | Policy Gradient (Actor-Critic) |\n",
        "| Architecture        | Deep Learning (MLP, CNN, etc.) |\n",
        "| Training Style      | On-policy                      |\n",
        "| Stability           | ✅ Very stable                  |\n",
        "| Efficiency          | ❗ Less sample-efficient than off-policy methods |\n",
        "| Usage               | Widely used baseline (e.g. SB3 PPO)\n",
        "\n",
        "---\n",
        "\n",
        "📚 PPO is one of the most robust and versatile RL algorithms, and a great starting point for many environments\n"
      ],
      "metadata": {
        "id": "WlF0XgIHS9-0"
      }
    },
    {
      "cell_type": "code",
      "source": [
        "from google.colab import drive\n",
        "drive.mount('/content/drive')\n"
      ],
      "metadata": {
        "colab": {
          "base_uri": "https://localhost:8080/"
        },
        "id": "hKizBi4PMLjP",
        "outputId": "7dcde44a-9a2e-4566-caef-13fee08d8503"
      },
      "execution_count": 6,
      "outputs": [
        {
          "output_type": "stream",
          "name": "stdout",
          "text": [
            "Mounted at /content/drive\n"
          ]
        }
      ]
    },
    {
      "cell_type": "code",
      "source": [
        "import torch\n",
        "print(\"✅ CUDA is available:\", torch.cuda.is_available())\n",
        "print(\"Running on:\", torch.cuda.get_device_name(0))\n"
      ],
      "metadata": {
        "colab": {
          "base_uri": "https://localhost:8080/"
        },
        "id": "mhP9myT9NZce",
        "outputId": "3387756c-4247-47ed-bdb1-8bcc3f5b1302"
      },
      "execution_count": 7,
      "outputs": [
        {
          "output_type": "stream",
          "name": "stdout",
          "text": [
            "✅ CUDA is available: True\n",
            "Running on: Tesla T4\n"
          ]
        }
      ]
    },
    {
      "cell_type": "code",
      "source": [
        "# === 1.2.1. PPO — Model Training ===\n",
        "\n",
        "import os\n",
        "import yaml\n",
        "from agent1_patterns_chests_to_reach.approach1_simple_event_mapping.agents.ppo_agent import train_ppo\n",
        "\n",
        "# 1. Load PPO config from YAML\n",
        "PROJECT_ROOT = \"/content/robot_task_recognition_rl\"\n",
        "config_path = os.path.join(PROJECT_ROOT, \"agent1_patterns_chests_to_reach/config/agent1_ppo_simple.yaml\")\n",
        "with open(config_path, \"r\") as f:\n",
        "    cfg = yaml.safe_load(f)\n",
        "\n",
        "# 2. Redirect save/log paths to Google Drive\n",
        "base_drive_path = \"/content/drive/MyDrive/RL_Agent1\"\n",
        "cfg[\"save_path\"] = os.path.join(base_drive_path, \"models/agent1_simple_ppo.zip\")\n",
        "cfg[\"log_path\"] = os.path.join(base_drive_path, \"logs/ppo/\")\n",
        "\n",
        "# 4. Ensure folders exist\n",
        "os.makedirs(os.path.dirname(cfg[\"save_path\"]), exist_ok=True)\n",
        "os.makedirs(cfg[\"log_path\"], exist_ok=True)\n",
        "\n",
        "cfg[\"policy\"] = \"MultiInputPolicy\"\n",
        "\n",
        "# 5. Train the PPO model\n",
        "model = train_ppo(\n",
        "    env_id=cfg[\"env_id\"],\n",
        "    total_timesteps=cfg[\"total_timesteps\"],\n",
        "    save_path=cfg[\"save_path\"],\n",
        "    log_path=cfg[\"log_path\"],\n",
        "    learning_rate=cfg[\"learning_rate\"],\n",
        "    policy=cfg[\"policy\"]\n",
        ")\n"
      ],
      "metadata": {
        "colab": {
          "base_uri": "https://localhost:8080/"
        },
        "id": "pvpifQSbNFtG",
        "outputId": "7b0b334f-c971-4e68-8ecf-e5dd8bf5b7c3"
      },
      "execution_count": 14,
      "outputs": [
        {
          "output_type": "stream",
          "name": "stdout",
          "text": [
            "Using cuda device\n",
            "Wrapping the env with a `Monitor` wrapper\n",
            "Wrapping the env in a DummyVecEnv.\n",
            "Logging to /content/drive/MyDrive/RL_Agent1/logs/ppo/PPO_1\n"
          ]
        },
        {
          "output_type": "stream",
          "name": "stderr",
          "text": [
            "/usr/local/lib/python3.11/dist-packages/gym/utils/passive_env_checker.py:174: UserWarning: \u001b[33mWARN: Future gym versions will require that `Env.reset` can be passed a `seed` instead of using `Env.seed` for resetting the environment random number generator.\u001b[0m\n",
            "  logger.warn(\n",
            "/usr/local/lib/python3.11/dist-packages/gym/utils/passive_env_checker.py:190: UserWarning: \u001b[33mWARN: Future gym versions will require that `Env.reset` can be passed `return_info` to return information from the environment resetting.\u001b[0m\n",
            "  logger.warn(\n",
            "/usr/local/lib/python3.11/dist-packages/gym/utils/passive_env_checker.py:195: UserWarning: \u001b[33mWARN: Future gym versions will require that `Env.reset` can be passed `options` to allow the environment initialisation to be passed additional information.\u001b[0m\n",
            "  logger.warn(\n",
            "/usr/local/lib/python3.11/dist-packages/gym/utils/passive_env_checker.py:141: UserWarning: \u001b[33mWARN: The obs returned by the `reset()` method was expecting numpy array dtype to be float32, actual type: float64\u001b[0m\n",
            "  logger.warn(\n",
            "/usr/local/lib/python3.11/dist-packages/gym/utils/passive_env_checker.py:165: UserWarning: \u001b[33mWARN: The obs returned by the `reset()` method is not within the observation space.\u001b[0m\n",
            "  logger.warn(f\"{pre} is not within the observation space.\")\n",
            "/usr/local/lib/python3.11/dist-packages/gym/utils/passive_env_checker.py:227: DeprecationWarning: \u001b[33mWARN: Core environment is written in old step API which returns one bool instead of two. It is recommended to rewrite the environment with new step API. \u001b[0m\n",
            "  logger.deprecation(\n",
            "/usr/local/lib/python3.11/dist-packages/gym/utils/passive_env_checker.py:141: UserWarning: \u001b[33mWARN: The obs returned by the `step()` method was expecting numpy array dtype to be float32, actual type: float64\u001b[0m\n",
            "  logger.warn(\n",
            "/usr/local/lib/python3.11/dist-packages/gym/utils/passive_env_checker.py:165: UserWarning: \u001b[33mWARN: The obs returned by the `step()` method is not within the observation space.\u001b[0m\n",
            "  logger.warn(f\"{pre} is not within the observation space.\")\n"
          ]
        },
        {
          "output_type": "stream",
          "name": "stdout",
          "text": [
            "---------------------------------\n",
            "| rollout/           |          |\n",
            "|    ep_len_mean     | 6.82     |\n",
            "|    ep_rew_mean     | -6.94    |\n",
            "| time/              |          |\n",
            "|    fps             | 573      |\n",
            "|    iterations      | 1        |\n",
            "|    time_elapsed    | 3        |\n",
            "|    total_timesteps | 2048     |\n",
            "---------------------------------\n",
            "------------------------------------------\n",
            "| rollout/                |              |\n",
            "|    ep_len_mean          | 5.89         |\n",
            "|    ep_rew_mean          | -5.28        |\n",
            "| time/                   |              |\n",
            "|    fps                  | 429          |\n",
            "|    iterations           | 2            |\n",
            "|    time_elapsed         | 9            |\n",
            "|    total_timesteps      | 4096         |\n",
            "| train/                  |              |\n",
            "|    approx_kl            | 0.021444054  |\n",
            "|    clip_fraction        | 0.327        |\n",
            "|    clip_range           | 0.2          |\n",
            "|    entropy_loss         | -2.06        |\n",
            "|    explained_variance   | -0.009824395 |\n",
            "|    learning_rate        | 0.0003       |\n",
            "|    loss                 | 5.24         |\n",
            "|    n_updates            | 10           |\n",
            "|    policy_gradient_loss | -0.0522      |\n",
            "|    value_loss           | 14.4         |\n",
            "------------------------------------------\n",
            "-----------------------------------------\n",
            "| rollout/                |             |\n",
            "|    ep_len_mean          | 4.92        |\n",
            "|    ep_rew_mean          | -3.47       |\n",
            "| time/                   |             |\n",
            "|    fps                  | 436         |\n",
            "|    iterations           | 3           |\n",
            "|    time_elapsed         | 14          |\n",
            "|    total_timesteps      | 6144        |\n",
            "| train/                  |             |\n",
            "|    approx_kl            | 0.026916834 |\n",
            "|    clip_fraction        | 0.469       |\n",
            "|    clip_range           | 0.2         |\n",
            "|    entropy_loss         | -2          |\n",
            "|    explained_variance   | 0.13232553  |\n",
            "|    learning_rate        | 0.0003      |\n",
            "|    loss                 | 3.32        |\n",
            "|    n_updates            | 20          |\n",
            "|    policy_gradient_loss | -0.077      |\n",
            "|    value_loss           | 10.1        |\n",
            "-----------------------------------------\n",
            "-----------------------------------------\n",
            "| rollout/                |             |\n",
            "|    ep_len_mean          | 4.08        |\n",
            "|    ep_rew_mean          | -1.41       |\n",
            "| time/                   |             |\n",
            "|    fps                  | 424         |\n",
            "|    iterations           | 4           |\n",
            "|    time_elapsed         | 19          |\n",
            "|    total_timesteps      | 8192        |\n",
            "| train/                  |             |\n",
            "|    approx_kl            | 0.051803764 |\n",
            "|    clip_fraction        | 0.42        |\n",
            "|    clip_range           | 0.2         |\n",
            "|    entropy_loss         | -1.87       |\n",
            "|    explained_variance   | 0.11575788  |\n",
            "|    learning_rate        | 0.0003      |\n",
            "|    loss                 | 3.62        |\n",
            "|    n_updates            | 30          |\n",
            "|    policy_gradient_loss | -0.075      |\n",
            "|    value_loss           | 7.04        |\n",
            "-----------------------------------------\n",
            "-----------------------------------------\n",
            "| rollout/                |             |\n",
            "|    ep_len_mean          | 3.97        |\n",
            "|    ep_rew_mean          | -0.83       |\n",
            "| time/                   |             |\n",
            "|    fps                  | 426         |\n",
            "|    iterations           | 5           |\n",
            "|    time_elapsed         | 23          |\n",
            "|    total_timesteps      | 10240       |\n",
            "| train/                  |             |\n",
            "|    approx_kl            | 0.042925186 |\n",
            "|    clip_fraction        | 0.45        |\n",
            "|    clip_range           | 0.2         |\n",
            "|    entropy_loss         | -1.68       |\n",
            "|    explained_variance   | 0.056816995 |\n",
            "|    learning_rate        | 0.0003      |\n",
            "|    loss                 | 1.04        |\n",
            "|    n_updates            | 40          |\n",
            "|    policy_gradient_loss | -0.0738     |\n",
            "|    value_loss           | 3.03        |\n",
            "-----------------------------------------\n",
            "-----------------------------------------\n",
            "| rollout/                |             |\n",
            "|    ep_len_mean          | 3.65        |\n",
            "|    ep_rew_mean          | 0.66        |\n",
            "| time/                   |             |\n",
            "|    fps                  | 431         |\n",
            "|    iterations           | 6           |\n",
            "|    time_elapsed         | 28          |\n",
            "|    total_timesteps      | 12288       |\n",
            "| train/                  |             |\n",
            "|    approx_kl            | 0.039219294 |\n",
            "|    clip_fraction        | 0.536       |\n",
            "|    clip_range           | 0.2         |\n",
            "|    entropy_loss         | -1.5        |\n",
            "|    explained_variance   | 0.0772661   |\n",
            "|    learning_rate        | 0.0003      |\n",
            "|    loss                 | 0.756       |\n",
            "|    n_updates            | 50          |\n",
            "|    policy_gradient_loss | -0.082      |\n",
            "|    value_loss           | 2.32        |\n",
            "-----------------------------------------\n",
            "-----------------------------------------\n",
            "| rollout/                |             |\n",
            "|    ep_len_mean          | 3.73        |\n",
            "|    ep_rew_mean          | 0.97        |\n",
            "| time/                   |             |\n",
            "|    fps                  | 423         |\n",
            "|    iterations           | 7           |\n",
            "|    time_elapsed         | 33          |\n",
            "|    total_timesteps      | 14336       |\n",
            "| train/                  |             |\n",
            "|    approx_kl            | 0.033748142 |\n",
            "|    clip_fraction        | 0.557       |\n",
            "|    clip_range           | 0.2         |\n",
            "|    entropy_loss         | -1.3        |\n",
            "|    explained_variance   | 0.07491398  |\n",
            "|    learning_rate        | 0.0003      |\n",
            "|    loss                 | 0.63        |\n",
            "|    n_updates            | 60          |\n",
            "|    policy_gradient_loss | -0.0831     |\n",
            "|    value_loss           | 1.43        |\n",
            "-----------------------------------------\n",
            "-----------------------------------------\n",
            "| rollout/                |             |\n",
            "|    ep_len_mean          | 3.63        |\n",
            "|    ep_rew_mean          | 1.35        |\n",
            "| time/                   |             |\n",
            "|    fps                  | 426         |\n",
            "|    iterations           | 8           |\n",
            "|    time_elapsed         | 38          |\n",
            "|    total_timesteps      | 16384       |\n",
            "| train/                  |             |\n",
            "|    approx_kl            | 0.041792206 |\n",
            "|    clip_fraction        | 0.578       |\n",
            "|    clip_range           | 0.2         |\n",
            "|    entropy_loss         | -1.07       |\n",
            "|    explained_variance   | 0.08012718  |\n",
            "|    learning_rate        | 0.0003      |\n",
            "|    loss                 | 0.493       |\n",
            "|    n_updates            | 70          |\n",
            "|    policy_gradient_loss | -0.0945     |\n",
            "|    value_loss           | 1.05        |\n",
            "-----------------------------------------\n",
            "-----------------------------------------\n",
            "| rollout/                |             |\n",
            "|    ep_len_mean          | 3.61        |\n",
            "|    ep_rew_mean          | 1.9         |\n",
            "| time/                   |             |\n",
            "|    fps                  | 427         |\n",
            "|    iterations           | 9           |\n",
            "|    time_elapsed         | 43          |\n",
            "|    total_timesteps      | 18432       |\n",
            "| train/                  |             |\n",
            "|    approx_kl            | 0.033438377 |\n",
            "|    clip_fraction        | 0.498       |\n",
            "|    clip_range           | 0.2         |\n",
            "|    entropy_loss         | -0.835      |\n",
            "|    explained_variance   | 0.15665269  |\n",
            "|    learning_rate        | 0.0003      |\n",
            "|    loss                 | 0.264       |\n",
            "|    n_updates            | 80          |\n",
            "|    policy_gradient_loss | -0.0912     |\n",
            "|    value_loss           | 0.725       |\n",
            "-----------------------------------------\n",
            "----------------------------------------\n",
            "| rollout/                |            |\n",
            "|    ep_len_mean          | 3.63       |\n",
            "|    ep_rew_mean          | 2.42       |\n",
            "| time/                   |            |\n",
            "|    fps                  | 423        |\n",
            "|    iterations           | 10         |\n",
            "|    time_elapsed         | 48         |\n",
            "|    total_timesteps      | 20480      |\n",
            "| train/                  |            |\n",
            "|    approx_kl            | 0.06085342 |\n",
            "|    clip_fraction        | 0.425      |\n",
            "|    clip_range           | 0.2        |\n",
            "|    entropy_loss         | -0.565     |\n",
            "|    explained_variance   | 0.30681676 |\n",
            "|    learning_rate        | 0.0003     |\n",
            "|    loss                 | 0.0802     |\n",
            "|    n_updates            | 90         |\n",
            "|    policy_gradient_loss | -0.0918    |\n",
            "|    value_loss           | 0.549      |\n",
            "----------------------------------------\n",
            "---------------------------------------\n",
            "| rollout/                |           |\n",
            "|    ep_len_mean          | 3.53      |\n",
            "|    ep_rew_mean          | 2.74      |\n",
            "| time/                   |           |\n",
            "|    fps                  | 425       |\n",
            "|    iterations           | 11        |\n",
            "|    time_elapsed         | 52        |\n",
            "|    total_timesteps      | 22528     |\n",
            "| train/                  |           |\n",
            "|    approx_kl            | 0.0768929 |\n",
            "|    clip_fraction        | 0.197     |\n",
            "|    clip_range           | 0.2       |\n",
            "|    entropy_loss         | -0.324    |\n",
            "|    explained_variance   | 0.5382166 |\n",
            "|    learning_rate        | 0.0003    |\n",
            "|    loss                 | 0.101     |\n",
            "|    n_updates            | 100       |\n",
            "|    policy_gradient_loss | -0.0695   |\n",
            "|    value_loss           | 0.302     |\n",
            "---------------------------------------\n",
            "-----------------------------------------\n",
            "| rollout/                |             |\n",
            "|    ep_len_mean          | 3.63        |\n",
            "|    ep_rew_mean          | 2.9         |\n",
            "| time/                   |             |\n",
            "|    fps                  | 422         |\n",
            "|    iterations           | 12          |\n",
            "|    time_elapsed         | 58          |\n",
            "|    total_timesteps      | 24576       |\n",
            "| train/                  |             |\n",
            "|    approx_kl            | 0.028567169 |\n",
            "|    clip_fraction        | 0.0883      |\n",
            "|    clip_range           | 0.2         |\n",
            "|    entropy_loss         | -0.186      |\n",
            "|    explained_variance   | 0.7574306   |\n",
            "|    learning_rate        | 0.0003      |\n",
            "|    loss                 | 0.00363     |\n",
            "|    n_updates            | 110         |\n",
            "|    policy_gradient_loss | -0.0403     |\n",
            "|    value_loss           | 0.157       |\n",
            "-----------------------------------------\n",
            "------------------------------------------\n",
            "| rollout/                |              |\n",
            "|    ep_len_mean          | 3.84         |\n",
            "|    ep_rew_mean          | 2.62         |\n",
            "| time/                   |              |\n",
            "|    fps                  | 424          |\n",
            "|    iterations           | 13           |\n",
            "|    time_elapsed         | 62           |\n",
            "|    total_timesteps      | 26624        |\n",
            "| train/                  |              |\n",
            "|    approx_kl            | 0.0022917055 |\n",
            "|    clip_fraction        | 0.0214       |\n",
            "|    clip_range           | 0.2          |\n",
            "|    entropy_loss         | -0.132       |\n",
            "|    explained_variance   | 0.30952275   |\n",
            "|    learning_rate        | 0.0003       |\n",
            "|    loss                 | 0.00893      |\n",
            "|    n_updates            | 120          |\n",
            "|    policy_gradient_loss | -0.00815     |\n",
            "|    value_loss           | 1.26         |\n",
            "------------------------------------------\n",
            "------------------------------------------\n",
            "| rollout/                |              |\n",
            "|    ep_len_mean          | 3.51         |\n",
            "|    ep_rew_mean          | 2.95         |\n",
            "| time/                   |              |\n",
            "|    fps                  | 425          |\n",
            "|    iterations           | 14           |\n",
            "|    time_elapsed         | 67           |\n",
            "|    total_timesteps      | 28672        |\n",
            "| train/                  |              |\n",
            "|    approx_kl            | 0.0014571571 |\n",
            "|    clip_fraction        | 0.0167       |\n",
            "|    clip_range           | 0.2          |\n",
            "|    entropy_loss         | -0.105       |\n",
            "|    explained_variance   | 0.6400516    |\n",
            "|    learning_rate        | 0.0003       |\n",
            "|    loss                 | 0.0458       |\n",
            "|    n_updates            | 130          |\n",
            "|    policy_gradient_loss | -0.00724     |\n",
            "|    value_loss           | 1.47         |\n",
            "------------------------------------------\n",
            "-----------------------------------------\n",
            "| rollout/                |             |\n",
            "|    ep_len_mean          | 3.51        |\n",
            "|    ep_rew_mean          | 2.96        |\n",
            "| time/                   |             |\n",
            "|    fps                  | 422         |\n",
            "|    iterations           | 15          |\n",
            "|    time_elapsed         | 72          |\n",
            "|    total_timesteps      | 30720       |\n",
            "| train/                  |             |\n",
            "|    approx_kl            | 0.001491762 |\n",
            "|    clip_fraction        | 0.0136      |\n",
            "|    clip_range           | 0.2         |\n",
            "|    entropy_loss         | -0.0758     |\n",
            "|    explained_variance   | 0.9247864   |\n",
            "|    learning_rate        | 0.0003      |\n",
            "|    loss                 | -0.00162    |\n",
            "|    n_updates            | 140         |\n",
            "|    policy_gradient_loss | -0.0118     |\n",
            "|    value_loss           | 0.0371      |\n",
            "-----------------------------------------\n",
            "-------------------------------------------\n",
            "| rollout/                |               |\n",
            "|    ep_len_mean          | 3.55          |\n",
            "|    ep_rew_mean          | 2.98          |\n",
            "| time/                   |               |\n",
            "|    fps                  | 423           |\n",
            "|    iterations           | 16            |\n",
            "|    time_elapsed         | 77            |\n",
            "|    total_timesteps      | 32768         |\n",
            "| train/                  |               |\n",
            "|    approx_kl            | 0.00082957133 |\n",
            "|    clip_fraction        | 0.00962       |\n",
            "|    clip_range           | 0.2           |\n",
            "|    entropy_loss         | -0.0636       |\n",
            "|    explained_variance   | 0.54046893    |\n",
            "|    learning_rate        | 0.0003        |\n",
            "|    loss                 | 4.06          |\n",
            "|    n_updates            | 150           |\n",
            "|    policy_gradient_loss | -0.00675      |\n",
            "|    value_loss           | 1.39          |\n",
            "-------------------------------------------\n",
            "------------------------------------------\n",
            "| rollout/                |              |\n",
            "|    ep_len_mean          | 3.51         |\n",
            "|    ep_rew_mean          | 2.96         |\n",
            "| time/                   |              |\n",
            "|    fps                  | 424          |\n",
            "|    iterations           | 17           |\n",
            "|    time_elapsed         | 82           |\n",
            "|    total_timesteps      | 34816        |\n",
            "| train/                  |              |\n",
            "|    approx_kl            | 0.0012234363 |\n",
            "|    clip_fraction        | 0.00957      |\n",
            "|    clip_range           | 0.2          |\n",
            "|    entropy_loss         | -0.0485      |\n",
            "|    explained_variance   | 0.9242834    |\n",
            "|    learning_rate        | 0.0003       |\n",
            "|    loss                 | 0.0125       |\n",
            "|    n_updates            | 160          |\n",
            "|    policy_gradient_loss | -0.00862     |\n",
            "|    value_loss           | 0.0282       |\n",
            "------------------------------------------\n",
            "-------------------------------------------\n",
            "| rollout/                |               |\n",
            "|    ep_len_mean          | 3.38          |\n",
            "|    ep_rew_mean          | 2.99          |\n",
            "| time/                   |               |\n",
            "|    fps                  | 422           |\n",
            "|    iterations           | 18            |\n",
            "|    time_elapsed         | 87            |\n",
            "|    total_timesteps      | 36864         |\n",
            "| train/                  |               |\n",
            "|    approx_kl            | 0.00034436508 |\n",
            "|    clip_fraction        | 0.00332       |\n",
            "|    clip_range           | 0.2           |\n",
            "|    entropy_loss         | -0.039        |\n",
            "|    explained_variance   | 0.9790477     |\n",
            "|    learning_rate        | 0.0003        |\n",
            "|    loss                 | 0.012         |\n",
            "|    n_updates            | 170           |\n",
            "|    policy_gradient_loss | -0.0047       |\n",
            "|    value_loss           | 0.0122        |\n",
            "-------------------------------------------\n",
            "------------------------------------------\n",
            "| rollout/                |              |\n",
            "|    ep_len_mean          | 3.59         |\n",
            "|    ep_rew_mean          | 2.97         |\n",
            "| time/                   |              |\n",
            "|    fps                  | 423          |\n",
            "|    iterations           | 19           |\n",
            "|    time_elapsed         | 91           |\n",
            "|    total_timesteps      | 38912        |\n",
            "| train/                  |              |\n",
            "|    approx_kl            | 0.0043211663 |\n",
            "|    clip_fraction        | 0.00781      |\n",
            "|    clip_range           | 0.2          |\n",
            "|    entropy_loss         | -0.0344      |\n",
            "|    explained_variance   | 0.9791155    |\n",
            "|    learning_rate        | 0.0003       |\n",
            "|    loss                 | -0.019       |\n",
            "|    n_updates            | 180          |\n",
            "|    policy_gradient_loss | -0.0083      |\n",
            "|    value_loss           | 0.0132       |\n",
            "------------------------------------------\n",
            "------------------------------------------\n",
            "| rollout/                |              |\n",
            "|    ep_len_mean          | 3.5          |\n",
            "|    ep_rew_mean          | 2.94         |\n",
            "| time/                   |              |\n",
            "|    fps                  | 422          |\n",
            "|    iterations           | 20           |\n",
            "|    time_elapsed         | 97           |\n",
            "|    total_timesteps      | 40960        |\n",
            "| train/                  |              |\n",
            "|    approx_kl            | 0.0043785553 |\n",
            "|    clip_fraction        | 0.0174       |\n",
            "|    clip_range           | 0.2          |\n",
            "|    entropy_loss         | -0.0342      |\n",
            "|    explained_variance   | 0.95905125   |\n",
            "|    learning_rate        | 0.0003       |\n",
            "|    loss                 | 0.0025       |\n",
            "|    n_updates            | 190          |\n",
            "|    policy_gradient_loss | -0.0104      |\n",
            "|    value_loss           | 0.0248       |\n",
            "------------------------------------------\n",
            "-----------------------------------------\n",
            "| rollout/                |             |\n",
            "|    ep_len_mean          | 3.46        |\n",
            "|    ep_rew_mean          | 2.97        |\n",
            "| time/                   |             |\n",
            "|    fps                  | 422         |\n",
            "|    iterations           | 21          |\n",
            "|    time_elapsed         | 101         |\n",
            "|    total_timesteps      | 43008       |\n",
            "| train/                  |             |\n",
            "|    approx_kl            | 0.008868771 |\n",
            "|    clip_fraction        | 0.00884     |\n",
            "|    clip_range           | 0.2         |\n",
            "|    entropy_loss         | -0.0267     |\n",
            "|    explained_variance   | 0.97160816  |\n",
            "|    learning_rate        | 0.0003      |\n",
            "|    loss                 | -0.02       |\n",
            "|    n_updates            | 200         |\n",
            "|    policy_gradient_loss | -0.00968    |\n",
            "|    value_loss           | 0.0182      |\n",
            "-----------------------------------------\n",
            "------------------------------------------\n",
            "| rollout/                |              |\n",
            "|    ep_len_mean          | 5.91         |\n",
            "|    ep_rew_mean          | 0.79         |\n",
            "| time/                   |              |\n",
            "|    fps                  | 424          |\n",
            "|    iterations           | 22           |\n",
            "|    time_elapsed         | 106          |\n",
            "|    total_timesteps      | 45056        |\n",
            "| train/                  |              |\n",
            "|    approx_kl            | 0.0044528237 |\n",
            "|    clip_fraction        | 0.0119       |\n",
            "|    clip_range           | 0.2          |\n",
            "|    entropy_loss         | -0.0367      |\n",
            "|    explained_variance   | 0.98370767   |\n",
            "|    learning_rate        | 0.0003       |\n",
            "|    loss                 | -0.00647     |\n",
            "|    n_updates            | 210          |\n",
            "|    policy_gradient_loss | -0.00556     |\n",
            "|    value_loss           | 0.00954      |\n",
            "------------------------------------------\n",
            "-----------------------------------------\n",
            "| rollout/                |             |\n",
            "|    ep_len_mean          | 3.43        |\n",
            "|    ep_rew_mean          | 2.99        |\n",
            "| time/                   |             |\n",
            "|    fps                  | 421         |\n",
            "|    iterations           | 23          |\n",
            "|    time_elapsed         | 111         |\n",
            "|    total_timesteps      | 47104       |\n",
            "| train/                  |             |\n",
            "|    approx_kl            | 0.064721376 |\n",
            "|    clip_fraction        | 0.0361      |\n",
            "|    clip_range           | 0.2         |\n",
            "|    entropy_loss         | -0.0461     |\n",
            "|    explained_variance   | 0.37707543  |\n",
            "|    learning_rate        | 0.0003      |\n",
            "|    loss                 | 4.71        |\n",
            "|    n_updates            | 220         |\n",
            "|    policy_gradient_loss | -0.0159     |\n",
            "|    value_loss           | 13.3        |\n",
            "-----------------------------------------\n",
            "-------------------------------------------\n",
            "| rollout/                |               |\n",
            "|    ep_len_mean          | 3.45          |\n",
            "|    ep_rew_mean          | 2.99          |\n",
            "| time/                   |               |\n",
            "|    fps                  | 422           |\n",
            "|    iterations           | 24            |\n",
            "|    time_elapsed         | 116           |\n",
            "|    total_timesteps      | 49152         |\n",
            "| train/                  |               |\n",
            "|    approx_kl            | 0.00020407487 |\n",
            "|    clip_fraction        | 0.00137       |\n",
            "|    clip_range           | 0.2           |\n",
            "|    entropy_loss         | -0.0213       |\n",
            "|    explained_variance   | -1.1854029    |\n",
            "|    learning_rate        | 0.0003        |\n",
            "|    loss                 | 0.00408       |\n",
            "|    n_updates            | 230           |\n",
            "|    policy_gradient_loss | -0.00105      |\n",
            "|    value_loss           | 0.0974        |\n",
            "-------------------------------------------\n",
            "------------------------------------------\n",
            "| rollout/                |              |\n",
            "|    ep_len_mean          | 3.47         |\n",
            "|    ep_rew_mean          | 3            |\n",
            "| time/                   |              |\n",
            "|    fps                  | 423          |\n",
            "|    iterations           | 25           |\n",
            "|    time_elapsed         | 120          |\n",
            "|    total_timesteps      | 51200        |\n",
            "| train/                  |              |\n",
            "|    approx_kl            | 0.0012622231 |\n",
            "|    clip_fraction        | 0.00288      |\n",
            "|    clip_range           | 0.2          |\n",
            "|    entropy_loss         | -0.0191      |\n",
            "|    explained_variance   | 0.9837747    |\n",
            "|    learning_rate        | 0.0003       |\n",
            "|    loss                 | -0.000339    |\n",
            "|    n_updates            | 240          |\n",
            "|    policy_gradient_loss | -0.00355     |\n",
            "|    value_loss           | 0.00699      |\n",
            "------------------------------------------\n",
            "✅ Model saved at /content/drive/MyDrive/RL_Agent1/models/agent1_simple_ppo.zip\n"
          ]
        }
      ]
    },
    {
      "cell_type": "markdown",
      "metadata": {
        "id": "2YNkGL67_V5t"
      },
      "source": [
        "#### 1.2.2. DQN\n",
        "\n"
      ]
    },
    {
      "cell_type": "markdown",
      "metadata": {
        "id": "fqn3RMSG_V5t"
      },
      "source": [
        "### 1.3. Learning Curves\n",
        "\n"
      ]
    },
    {
      "cell_type": "markdown",
      "metadata": {
        "id": "32crZip-_V5t"
      },
      "source": [
        "#### 1.3.1. PPO\n",
        "\n"
      ]
    },
    {
      "cell_type": "code",
      "source": [
        "# === 1.3.1. PPO — Learning Curves ===\n",
        "\n",
        "from agent1_patterns_chests_to_reach.utils.plot_learning_curves import plot_learning_curve\n",
        "\n",
        "# Path to the PPO log directory in Google Drive\n",
        "ppo_log_path = \"/content/drive/MyDrive/RL_Agent1/logs/ppo\"\n",
        "\n",
        "# Plot the learning curve\n",
        "plot_learning_curve(\n",
        "    log_dir=ppo_log_path,\n",
        "    title=\"PPO - Learning Curve (OpenTheChests-v0)\",\n",
        "    ma_window=5  # Moving average window size\n",
        ")\n"
      ],
      "metadata": {
        "colab": {
          "base_uri": "https://localhost:8080/",
          "height": 382
        },
        "id": "MU4FEA64Uc1z",
        "outputId": "ffa3a148-3658-437b-b71b-2e7ef7665da1"
      },
      "execution_count": 15,
      "outputs": [
        {
          "output_type": "error",
          "ename": "FileNotFoundError",
          "evalue": "monitor.csv not found in /content/drive/MyDrive/RL_Agent1/logs/ppo",
          "traceback": [
            "\u001b[0;31m---------------------------------------------------------------------------\u001b[0m",
            "\u001b[0;31mFileNotFoundError\u001b[0m                         Traceback (most recent call last)",
            "\u001b[0;32m<ipython-input-15-8cab3297c634>\u001b[0m in \u001b[0;36m<cell line: 0>\u001b[0;34m()\u001b[0m\n\u001b[1;32m      7\u001b[0m \u001b[0;34m\u001b[0m\u001b[0m\n\u001b[1;32m      8\u001b[0m \u001b[0;31m# Plot the learning curve\u001b[0m\u001b[0;34m\u001b[0m\u001b[0;34m\u001b[0m\u001b[0m\n\u001b[0;32m----> 9\u001b[0;31m plot_learning_curve(\n\u001b[0m\u001b[1;32m     10\u001b[0m     \u001b[0mlog_dir\u001b[0m\u001b[0;34m=\u001b[0m\u001b[0mppo_log_path\u001b[0m\u001b[0;34m,\u001b[0m\u001b[0;34m\u001b[0m\u001b[0;34m\u001b[0m\u001b[0m\n\u001b[1;32m     11\u001b[0m     \u001b[0mtitle\u001b[0m\u001b[0;34m=\u001b[0m\u001b[0;34m\"PPO - Learning Curve (OpenTheChests-v0)\"\u001b[0m\u001b[0;34m,\u001b[0m\u001b[0;34m\u001b[0m\u001b[0;34m\u001b[0m\u001b[0m\n",
            "\u001b[0;32m/content/robot_task_recognition_rl/agent1_patterns_chests_to_reach/utils/plot_learning_curves.py\u001b[0m in \u001b[0;36mplot_learning_curve\u001b[0;34m(log_dir, title, ma_window, save_path)\u001b[0m\n\u001b[1;32m     45\u001b[0m         \u001b[0msave_path\u001b[0m \u001b[0;34m(\u001b[0m\u001b[0mstr\u001b[0m\u001b[0;34m)\u001b[0m\u001b[0;34m:\u001b[0m \u001b[0mOptional\u001b[0m\u001b[0;34m.\u001b[0m \u001b[0mPath\u001b[0m \u001b[0mto\u001b[0m \u001b[0msave\u001b[0m \u001b[0mthe\u001b[0m \u001b[0mfigure\u001b[0m \u001b[0;34m(\u001b[0m\u001b[0mPNG\u001b[0m\u001b[0;34m)\u001b[0m\u001b[0;34m.\u001b[0m\u001b[0;34m\u001b[0m\u001b[0;34m\u001b[0m\u001b[0m\n\u001b[1;32m     46\u001b[0m     \"\"\"\n\u001b[0;32m---> 47\u001b[0;31m     \u001b[0mdf\u001b[0m \u001b[0;34m=\u001b[0m \u001b[0mload_monitor_csv\u001b[0m\u001b[0;34m(\u001b[0m\u001b[0mlog_dir\u001b[0m\u001b[0;34m)\u001b[0m\u001b[0;34m\u001b[0m\u001b[0;34m\u001b[0m\u001b[0m\n\u001b[0m\u001b[1;32m     48\u001b[0m \u001b[0;34m\u001b[0m\u001b[0m\n\u001b[1;32m     49\u001b[0m     \u001b[0mepisodes\u001b[0m \u001b[0;34m=\u001b[0m \u001b[0mrange\u001b[0m\u001b[0;34m(\u001b[0m\u001b[0;36m1\u001b[0m\u001b[0;34m,\u001b[0m \u001b[0mlen\u001b[0m\u001b[0;34m(\u001b[0m\u001b[0mdf\u001b[0m\u001b[0;34m)\u001b[0m \u001b[0;34m+\u001b[0m \u001b[0;36m1\u001b[0m\u001b[0;34m)\u001b[0m\u001b[0;34m\u001b[0m\u001b[0;34m\u001b[0m\u001b[0m\n",
            "\u001b[0;32m/content/robot_task_recognition_rl/agent1_patterns_chests_to_reach/utils/plot_learning_curves.py\u001b[0m in \u001b[0;36mload_monitor_csv\u001b[0;34m(log_dir)\u001b[0m\n\u001b[1;32m     30\u001b[0m     \u001b[0mmonitor_path\u001b[0m \u001b[0;34m=\u001b[0m \u001b[0mos\u001b[0m\u001b[0;34m.\u001b[0m\u001b[0mpath\u001b[0m\u001b[0;34m.\u001b[0m\u001b[0mjoin\u001b[0m\u001b[0;34m(\u001b[0m\u001b[0mlog_dir\u001b[0m\u001b[0;34m,\u001b[0m \u001b[0;34m\"monitor.csv\"\u001b[0m\u001b[0;34m)\u001b[0m\u001b[0;34m\u001b[0m\u001b[0;34m\u001b[0m\u001b[0m\n\u001b[1;32m     31\u001b[0m     \u001b[0;32mif\u001b[0m \u001b[0;32mnot\u001b[0m \u001b[0mos\u001b[0m\u001b[0;34m.\u001b[0m\u001b[0mpath\u001b[0m\u001b[0;34m.\u001b[0m\u001b[0mexists\u001b[0m\u001b[0;34m(\u001b[0m\u001b[0mmonitor_path\u001b[0m\u001b[0;34m)\u001b[0m\u001b[0;34m:\u001b[0m\u001b[0;34m\u001b[0m\u001b[0;34m\u001b[0m\u001b[0m\n\u001b[0;32m---> 32\u001b[0;31m         \u001b[0;32mraise\u001b[0m \u001b[0mFileNotFoundError\u001b[0m\u001b[0;34m(\u001b[0m\u001b[0;34mf\"monitor.csv not found in {log_dir}\"\u001b[0m\u001b[0;34m)\u001b[0m\u001b[0;34m\u001b[0m\u001b[0;34m\u001b[0m\u001b[0m\n\u001b[0m\u001b[1;32m     33\u001b[0m \u001b[0;34m\u001b[0m\u001b[0m\n\u001b[1;32m     34\u001b[0m     \u001b[0;32mreturn\u001b[0m \u001b[0mpd\u001b[0m\u001b[0;34m.\u001b[0m\u001b[0mread_csv\u001b[0m\u001b[0;34m(\u001b[0m\u001b[0mmonitor_path\u001b[0m\u001b[0;34m,\u001b[0m \u001b[0mskiprows\u001b[0m\u001b[0;34m=\u001b[0m\u001b[0;36m1\u001b[0m\u001b[0;34m)\u001b[0m\u001b[0;34m\u001b[0m\u001b[0;34m\u001b[0m\u001b[0m\n",
            "\u001b[0;31mFileNotFoundError\u001b[0m: monitor.csv not found in /content/drive/MyDrive/RL_Agent1/logs/ppo"
          ]
        }
      ]
    },
    {
      "cell_type": "markdown",
      "metadata": {
        "id": "qL9bDvDc_V5u"
      },
      "source": [
        "#### 1.3.2. DQN\n",
        "\n"
      ]
    },
    {
      "cell_type": "markdown",
      "metadata": {
        "id": "zPI4NfaP_V5u"
      },
      "source": [
        "### 1.4. Model Evaluation\n",
        "\n"
      ]
    },
    {
      "cell_type": "markdown",
      "metadata": {
        "id": "XZQNnG1J_V5u"
      },
      "source": [
        "#### 1.4.1. PPO\n",
        "\n"
      ]
    },
    {
      "cell_type": "markdown",
      "metadata": {
        "id": "sf0BuwQ7_V5u"
      },
      "source": [
        "#### 1.4.2. DQN"
      ]
    },
    {
      "cell_type": "markdown",
      "metadata": {
        "id": "uW40JltU_V5u"
      },
      "source": [
        "## 2. Intermediate Approach: Temporal Window"
      ]
    },
    {
      "cell_type": "markdown",
      "metadata": {
        "id": "KHQ9Spx7_V5u"
      },
      "source": [
        "### 2.1. Event Visualization"
      ]
    },
    {
      "cell_type": "markdown",
      "metadata": {
        "id": "tBza4Fu2_V5u"
      },
      "source": [
        "## 3. Advanced Approach: Sequence Modeling (LSTM / Transformer)"
      ]
    },
    {
      "cell_type": "markdown",
      "metadata": {
        "id": "WEqjudpr_V5u"
      },
      "source": [
        "### 3.1. Event Visualization"
      ]
    }
  ],
  "metadata": {
    "language_info": {
      "name": "python"
    },
    "colab": {
      "provenance": [],
      "gpuType": "T4"
    },
    "kernelspec": {
      "name": "python3",
      "display_name": "Python 3"
    },
    "accelerator": "GPU"
  },
  "nbformat": 4,
  "nbformat_minor": 0
}